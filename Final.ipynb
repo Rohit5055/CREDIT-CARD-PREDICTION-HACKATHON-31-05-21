{
 "cells": [
  {
   "cell_type": "code",
   "execution_count": 36,
   "id": "b0bf9403",
   "metadata": {},
   "outputs": [],
   "source": [
    "import matplotlib.pyplot as plt\n",
    "import pandas as pd\n",
    "import numpy as np\n",
    "import seaborn as sns\n",
    "\n",
    "from sklearn.preprocessing import LabelEncoder\n",
    "from sklearn.model_selection import train_test_split\n",
    "from sklearn import metrics\n",
    "from sklearn.linear_model import LinearRegression\n",
    "\n",
    "import warnings\n",
    "warnings.filterwarnings('always')\n",
    "warnings.filterwarnings('ignore')"
   ]
  },
  {
   "cell_type": "code",
   "execution_count": 37,
   "id": "0fe8d303",
   "metadata": {},
   "outputs": [],
   "source": [
    "from sklearn.preprocessing import MinMaxScaler\n",
    "from sklearn.linear_model import LogisticRegression\n",
    "\n",
    "import matplotlib.pyplot as plt\n",
    "import seaborn as sn\n",
    "\n",
    "from sklearn.ensemble import GradientBoostingRegressor\n",
    "from sklearn.metrics import roc_auc_score"
   ]
  },
  {
   "cell_type": "code",
   "execution_count": 38,
   "id": "514e7efe",
   "metadata": {},
   "outputs": [],
   "source": [
    "train = pd.read_csv(\"train_s3TEQDk.csv\")\n",
    "test = pd.read_csv(\"test_mSzZ8RL.csv\")"
   ]
  },
  {
   "cell_type": "code",
   "execution_count": 39,
   "id": "ca21e836",
   "metadata": {},
   "outputs": [
    {
     "data": {
      "text/plain": [
       "((245725, 11), (105312, 10))"
      ]
     },
     "execution_count": 39,
     "metadata": {},
     "output_type": "execute_result"
    }
   ],
   "source": [
    "train.shape,test.shape"
   ]
  },
  {
   "cell_type": "code",
   "execution_count": 40,
   "id": "e86a266c",
   "metadata": {},
   "outputs": [
    {
     "data": {
      "text/plain": [
       "ID                         0\n",
       "Gender                     0\n",
       "Age                        0\n",
       "Region_Code                0\n",
       "Occupation                 0\n",
       "Channel_Code               0\n",
       "Vintage                    0\n",
       "Credit_Product         29325\n",
       "Avg_Account_Balance        0\n",
       "Is_Active                  0\n",
       "Is_Lead                    0\n",
       "dtype: int64"
      ]
     },
     "execution_count": 40,
     "metadata": {},
     "output_type": "execute_result"
    }
   ],
   "source": [
    "train.isnull().sum()"
   ]
  },
  {
   "cell_type": "code",
   "execution_count": 41,
   "id": "15a9ec82",
   "metadata": {},
   "outputs": [
    {
     "data": {
      "text/plain": [
       "ID                         0\n",
       "Gender                     0\n",
       "Age                        0\n",
       "Region_Code                0\n",
       "Occupation                 0\n",
       "Channel_Code               0\n",
       "Vintage                    0\n",
       "Credit_Product         12522\n",
       "Avg_Account_Balance        0\n",
       "Is_Active                  0\n",
       "dtype: int64"
      ]
     },
     "execution_count": 41,
     "metadata": {},
     "output_type": "execute_result"
    }
   ],
   "source": [
    "test.isnull().sum()"
   ]
  },
  {
   "cell_type": "code",
   "execution_count": 42,
   "id": "3efa3625",
   "metadata": {},
   "outputs": [
    {
     "name": "stdout",
     "output_type": "stream",
     "text": [
      "No     144357\n",
      "Yes     72043\n",
      "Name: Credit_Product, dtype: int64\n",
      "******************************************\n",
      "No     61608\n",
      "Yes    31182\n",
      "Name: Credit_Product, dtype: int64\n"
     ]
    }
   ],
   "source": [
    "print(train['Credit_Product'].value_counts())\n",
    "print('******************************************')\n",
    "print(test['Credit_Product'].value_counts())"
   ]
  },
  {
   "cell_type": "code",
   "execution_count": 43,
   "id": "39c1dc99",
   "metadata": {},
   "outputs": [],
   "source": [
    "#Imputing with Mode\n",
    "train['Credit_Product']= train['Credit_Product'].dropna()\n",
    "test['Credit_Product']= test['Credit_Product'].dropna()"
   ]
  },
  {
   "cell_type": "code",
   "execution_count": 44,
   "id": "1533af01",
   "metadata": {},
   "outputs": [],
   "source": [
    "train = train.drop([\"ID\",\"Gender\",\"Region_Code\",\"Occupation\",\"Channel_Code\"],axis=1)\n",
    "test = test.drop([\"ID\",\"Gender\",\"Region_Code\",\"Occupation\",\"Channel_Code\"],axis=1)"
   ]
  },
  {
   "cell_type": "code",
   "execution_count": 45,
   "id": "f9e0ecb1",
   "metadata": {},
   "outputs": [
    {
     "data": {
      "text/plain": [
       "Index(['Age', 'Vintage', 'Credit_Product', 'Avg_Account_Balance', 'Is_Active',\n",
       "       'Is_Lead'],\n",
       "      dtype='object')"
      ]
     },
     "execution_count": 45,
     "metadata": {},
     "output_type": "execute_result"
    }
   ],
   "source": [
    "train.columns"
   ]
  },
  {
   "cell_type": "code",
   "execution_count": 46,
   "id": "84d4ddfc",
   "metadata": {},
   "outputs": [
    {
     "data": {
      "text/plain": [
       "Index(['Age', 'Vintage', 'Credit_Product', 'Avg_Account_Balance', 'Is_Active'], dtype='object')"
      ]
     },
     "execution_count": 46,
     "metadata": {},
     "output_type": "execute_result"
    }
   ],
   "source": [
    "test.columns"
   ]
  },
  {
   "cell_type": "code",
   "execution_count": 47,
   "id": "b71b39d7",
   "metadata": {},
   "outputs": [],
   "source": [
    "le = LabelEncoder()\n",
    "var_mod = train.select_dtypes(include='object').columns\n",
    "for i in var_mod:\n",
    "    train[i] = le.fit_transform(train[i])\n",
    "    \n",
    "for i in var_mod:\n",
    "    test[i] = le.fit_transform(test[i])"
   ]
  },
  {
   "cell_type": "code",
   "execution_count": 48,
   "id": "98224d0c",
   "metadata": {},
   "outputs": [],
   "source": [
    "# Seperate Features and Target\n",
    "X= train.drop(columns = ['Is_Lead'], axis=1)\n",
    "y= train['Is_Lead']"
   ]
  },
  {
   "cell_type": "code",
   "execution_count": 49,
   "id": "20493c1b",
   "metadata": {},
   "outputs": [],
   "source": [
    "# 20% data as validation set\n",
    "X_train,X_valid,y_train,y_valid = train_test_split(X,y,test_size=0.1,random_state=42)"
   ]
  },
  {
   "cell_type": "code",
   "execution_count": 50,
   "id": "1d80b180",
   "metadata": {},
   "outputs": [],
   "source": [
    "scaler = MinMaxScaler(feature_range=(0,1))"
   ]
  },
  {
   "cell_type": "code",
   "execution_count": 51,
   "id": "0e79d875",
   "metadata": {},
   "outputs": [],
   "source": [
    "scaledtrainX = scaler.fit_transform(X_train)\n",
    "scaledtestX = scaler.fit_transform(X_valid)\n",
    "scaledx= scaler.fit_transform(X)\n",
    "\n",
    "scaledtest= scaler.fit_transform(test)\n",
    "\n"
   ]
  },
  {
   "cell_type": "code",
   "execution_count": 52,
   "id": "53164bfe",
   "metadata": {},
   "outputs": [],
   "source": [
    "from sklearn.linear_model import Ridge, Lasso, LinearRegression\n",
    "from sklearn.tree import DecisionTreeClassifier\n",
    "from sklearn.neighbors import KNeighborsRegressor\n",
    "from sklearn.naive_bayes import GaussianNB\n",
    "from sklearn.ensemble import RandomForestClassifier,RandomForestRegressor\n",
    "from xgboost import XGBClassifier"
   ]
  },
  {
   "cell_type": "code",
   "execution_count": 53,
   "id": "1d89bc40",
   "metadata": {},
   "outputs": [],
   "source": [
    "algos = [  \n",
    "          LogisticRegression(),\n",
    "         DecisionTreeClassifier(max_depth=3), \n",
    "         XGBClassifier(learning_rate=0.01, n_estimators=25, max_depth=15,gamma=0.6, subsample=0.52,colsample_bytree=0.6,seed=27, \n",
    "                    reg_lambda=2, booster='dart', colsample_bylevel=0.6, colsample_bynode=0.5),\n",
    "         RandomForestClassifier(max_depth=2, random_state=0),\n",
    "         GaussianNB()\n",
    "        ]\n",
    "\n",
    "algos2 = [GradientBoostingRegressor(n_estimators=100, learning_rate=1.0,\n",
    "                                 max_depth=1, random_state=0),\n",
    "           KNeighborsRegressor(),\n",
    "          Lasso(), Ridge(), LinearRegression()\n",
    "         ]\n",
    "\n",
    "names = [  \n",
    "         'K Neighbors Regressor', 'Decision Tree Regressor', 'XGB Classifier','Random Forest Classifier',\n",
    "         'GaussianNB()',\n",
    "        ]\n",
    "names2 = ['GBR','KNN','LASSO','RIDGE','Linear REgression']\n",
    "roc_auc_score_list = []\n"
   ]
  },
  {
   "cell_type": "code",
   "execution_count": 54,
   "id": "6ab48b2f",
   "metadata": {},
   "outputs": [
    {
     "name": "stdout",
     "output_type": "stream",
     "text": [
      "LogisticRegression() 0.8500987006763038\n",
      "DecisionTreeClassifier(max_depth=3) 0.8441537453733152\n",
      "[15:34:30] WARNING: C:/Users/Administrator/workspace/xgboost-win64_release_1.4.0/src/learner.cc:1095: Starting in XGBoost 1.3.0, the default evaluation metric used with the objective 'binary:logistic' was changed from 'error' to 'logloss'. Explicitly set eval_metric if you'd like to restore the old behavior.\n",
      "XGBClassifier(base_score=0.5, booster='dart', colsample_bylevel=0.6,\n",
      "              colsample_bynode=0.5, colsample_bytree=0.6, gamma=0.6, gpu_id=-1,\n",
      "              importance_type='gain', interaction_constraints='',\n",
      "              learning_rate=0.01, max_delta_step=0, max_depth=15,\n",
      "              min_child_weight=1, missing=nan, monotone_constraints='()',\n",
      "              n_estimators=25, n_jobs=4, num_parallel_tree=1, random_state=27,\n",
      "              reg_alpha=0, reg_lambda=2, scale_pos_weight=1, seed=27,\n",
      "              subsample=0.52, tree_method='exact', validate_parameters=1,\n",
      "              verbosity=None) 0.8571990086219796\n",
      "RandomForestClassifier(max_depth=2, random_state=0) 0.8393360307875475\n",
      "GaussianNB() 0.8460025556657739\n"
     ]
    }
   ],
   "source": [
    "for name in algos:\n",
    "    model = name.fit(scaledtrainX,y_train)\n",
    "    roc= roc_auc_score(y_valid, model.predict_proba(scaledtestX)[:, 1])\n",
    "    print(name,roc)\n",
    "    "
   ]
  },
  {
   "cell_type": "code",
   "execution_count": 55,
   "id": "92907994",
   "metadata": {},
   "outputs": [
    {
     "data": {
      "text/plain": [
       "0.8572723438830566"
      ]
     },
     "execution_count": 55,
     "metadata": {},
     "output_type": "execute_result"
    }
   ],
   "source": [
    "clf3 = GradientBoostingRegressor(n_estimators=105, learning_rate=0.9,\n",
    "                                 max_depth=1, random_state=22).fit(scaledtrainX,y_train)\n",
    "roc_auc_score(y_valid, clf3.predict(scaledtestX),multi_class='ovo')"
   ]
  },
  {
   "cell_type": "code",
   "execution_count": null,
   "id": "bce5e266",
   "metadata": {},
   "outputs": [],
   "source": []
  },
  {
   "cell_type": "code",
   "execution_count": null,
   "id": "18cf21dc",
   "metadata": {},
   "outputs": [],
   "source": []
  },
  {
   "cell_type": "code",
   "execution_count": 22,
   "id": "83c83cd8",
   "metadata": {},
   "outputs": [
    {
     "name": "stdout",
     "output_type": "stream",
     "text": [
      "GradientBoostingRegressor(learning_rate=1.0, max_depth=1, random_state=0) 0.858128038379531\n",
      "KNeighborsRegressor() 0.8096004528050988\n",
      "Lasso() 0.5\n",
      "Ridge() 0.8501120870302863\n",
      "LinearRegression() 0.8501113304445513\n"
     ]
    }
   ],
   "source": [
    "for name in algos2:\n",
    "    model = name.fit(scaledtrainX,y_train)\n",
    "    roc= roc_auc_score(y_valid, model.predict(scaledtestX),multi_class='ovo')\n",
    "    print(name,roc)\n",
    "    "
   ]
  },
  {
   "cell_type": "markdown",
   "id": "7d418733",
   "metadata": {},
   "source": [
    "\n",
    "GBR HAS HIGHEST ROC SCORE"
   ]
  },
  {
   "cell_type": "code",
   "execution_count": 42,
   "id": "b31b1176",
   "metadata": {},
   "outputs": [],
   "source": [
    "submission01 = pd.read_csv('sample_submission_eyYijxG.csv')\n",
    "model = GradientBoostingRegressor(n_estimators=105, learning_rate=0.9,\n",
    "                                 max_depth=1, random_state=22)\n",
    "model.fit(scaledx, y)\n",
    "final_predictions = model.predict(scaledtest)\n",
    "submission01['Is_Lead'] = final_predictions\n",
    "#only positive predictions for the target variable\n",
    "submission01['Is_Lead'] = submission01['Is_Lead'].apply(lambda x: 0 if x<0 else x)\n",
    "submission01.to_csv('my_submission000F.csv', index=False)"
   ]
  },
  {
   "cell_type": "code",
   "execution_count": 45,
   "id": "7438dafb",
   "metadata": {},
   "outputs": [],
   "source": [
    "# submission01 = pd.read_csv('sample_submission_eyYijxG.csv')\n",
    "# model = LogisticRegression()\n",
    "# model.fit(scaledx, y)\n",
    "# final_predictions = model.predict(scaledtest)\n",
    "# submission01['Is_Lead'] = final_predictions\n",
    "# #only positive predictions for the target variable\n",
    "# submission01['Is_Lead'] = submission01['Is_Lead'].apply(lambda x: 0 if x<0 else x)\n",
    "# submission01.to_csv('my_submission000LGR.csv', index=False)"
   ]
  },
  {
   "cell_type": "code",
   "execution_count": null,
   "id": "f40124bd",
   "metadata": {},
   "outputs": [],
   "source": []
  }
 ],
 "metadata": {
  "kernelspec": {
   "display_name": "Python 3",
   "language": "python",
   "name": "python3"
  },
  "language_info": {
   "codemirror_mode": {
    "name": "ipython",
    "version": 3
   },
   "file_extension": ".py",
   "mimetype": "text/x-python",
   "name": "python",
   "nbconvert_exporter": "python",
   "pygments_lexer": "ipython3",
   "version": "3.9.5"
  }
 },
 "nbformat": 4,
 "nbformat_minor": 5
}
